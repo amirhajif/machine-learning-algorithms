{
 "cells": [
  {
   "cell_type": "code",
   "execution_count": 8,
   "metadata": {},
   "outputs": [
    {
     "name": "stdout",
     "output_type": "stream",
     "text": [
      "Log Evidence: 13647.050754616259\n"
     ]
    }
   ],
   "source": [
    "import numpy as np\n",
    "\n",
    "np.random.seed(42)\n",
    "X = np.linspace(0, 1, 10).reshape(-1, 1)\n",
    "t = 2 * X.squeeze() + 1 + np.random.normal(0, 0.1, X.shape[0])\n",
    "\n",
    "alpha = 2.0\n",
    "beta = 25.0\n",
    "\n",
    "X_design = np.hstack([np.ones((X.shape[0], 1)), X])  # افزودن بایاس\n",
    "I = np.eye(X_design.shape[1])\n",
    "\n",
    "C_N = np.linalg.inv(alpha * I + beta * X_design.T @ X_design)\n",
    "m_N = beta * C_N @ X_design.T @ t\n",
    "\n",
    "N = len(t)\n",
    "M = X_design.shape[1]\n",
    "\n",
    "log_evidence = (\n",
    "    -0.5 * N * np.log(2 * np.pi)\n",
    "    + 0.5 * M * np.log(alpha)\n",
    "    + 0.5 * N * np.log(beta)\n",
    "    - 0.5 * beta * (t.T @ t - m_N.T @ np.linalg.inv(C_N) @ m_N)\n",
    "    - 0.5 * np.log(np.linalg.det(C_N))\n",
    ")\n",
    "print(\"Log Evidence:\", log_evidence)"
   ]
  },
  {
   "cell_type": "markdown",
   "metadata": {},
   "source": [
    "Maximizing Evidence Function"
   ]
  },
  {
   "cell_type": "code",
   "execution_count": 9,
   "metadata": {},
   "outputs": [
    {
     "name": "stdout",
     "output_type": "stream",
     "text": [
      "Optimal alpha: 0.3320\n",
      "Optimal beta: 176.9319\n"
     ]
    }
   ],
   "source": [
    "import numpy as np\n",
    "\n",
    "np.random.seed(42)\n",
    "X = np.linspace(0, 1, 10).reshape(-1, 1)\n",
    "t = 2 * X.squeeze() + 1 + np.random.normal(0, 0.1, X.shape[0])\n",
    "\n",
    "X_design = np.hstack([np.ones((X.shape[0], 1)), X])\n",
    "N, M = X_design.shape\n",
    "\n",
    "alpha = 1.0\n",
    "beta = 1.0\n",
    "tolerance = 1e-6\n",
    "max_iter = 100\n",
    "I = np.eye(M)\n",
    "\n",
    "for iteration in range(max_iter):\n",
    "    C_N = np.linalg.inv(alpha * I + beta * X_design.T @ X_design)\n",
    "    m_N = beta * C_N @ X_design.T @ t\n",
    "\n",
    "    eigenvalues = np.linalg.eigvalsh(X_design.T @ X_design)\n",
    "    gamma = np.sum(eigenvalues / (alpha + eigenvalues))\n",
    "\n",
    "    alpha_new = gamma / (m_N.T @ m_N)\n",
    "    beta_new = (N - gamma) / np.sum((t - X_design @ m_N) ** 2)\n",
    "\n",
    "    if np.abs(alpha - alpha_new) < tolerance and np.abs(beta - beta_new) < tolerance:\n",
    "        break\n",
    "\n",
    "    alpha, beta = alpha_new, beta_new\n",
    "\n",
    "print(f\"Optimal alpha: {alpha:.4f}\")\n",
    "print(f\"Optimal beta: {beta:.4f}\")"
   ]
  },
  {
   "cell_type": "code",
   "execution_count": null,
   "metadata": {},
   "outputs": [],
   "source": []
  }
 ],
 "metadata": {
  "kernelspec": {
   "display_name": "venv",
   "language": "python",
   "name": "python3"
  },
  "language_info": {
   "codemirror_mode": {
    "name": "ipython",
    "version": 3
   },
   "file_extension": ".py",
   "mimetype": "text/x-python",
   "name": "python",
   "nbconvert_exporter": "python",
   "pygments_lexer": "ipython3",
   "version": "3.10.7"
  }
 },
 "nbformat": 4,
 "nbformat_minor": 2
}
