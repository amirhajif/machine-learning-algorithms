{
 "cells": [
  {
   "cell_type": "markdown",
   "metadata": {},
   "source": [
    "agglomerative clustering without scikit learn"
   ]
  },
  {
   "cell_type": "code",
   "execution_count": 1,
   "metadata": {},
   "outputs": [
    {
     "name": "stdout",
     "output_type": "stream",
     "text": [
      "Clusters: [[0, 1, 2], [3, 4, 5]]\n"
     ]
    }
   ],
   "source": [
    "import numpy as np\n",
    "\n",
    "def hierarchical_clustering(data, n_clusters):\n",
    "    def calculate_distance_matrix(data):\n",
    "        n = len(data)\n",
    "        distance_matrix = np.zeros((n, n))\n",
    "        for i in range(n):\n",
    "            for j in range(n):\n",
    "                if i != j:\n",
    "                    distance_matrix[i, j] = np.linalg.norm(data[i] - data[j])\n",
    "                else:\n",
    "                    distance_matrix[i, j] = np.inf  # Avoid self-linkage\n",
    "        return distance_matrix\n",
    "\n",
    "    def merge_clusters(cluster_map, distance_matrix):\n",
    "        min_dist = np.inf\n",
    "        x, y = -1, -1\n",
    "        for i in range(len(distance_matrix)):\n",
    "            for j in range(i + 1, len(distance_matrix)):\n",
    "                if distance_matrix[i, j] < min_dist:\n",
    "                    min_dist = distance_matrix[i, j]\n",
    "                    x, y = i, j\n",
    "        \n",
    "        cluster_map[y] = cluster_map[x] + cluster_map[y]\n",
    "        cluster_map.pop(x)\n",
    "        \n",
    "        for i in range(len(distance_matrix)):\n",
    "            if i != x and i != y:\n",
    "                distance_matrix[y, i] = distance_matrix[i, y] = min(distance_matrix[i, x], distance_matrix[i, y])\n",
    "        distance_matrix[x, :] = distance_matrix[:, x] = np.inf\n",
    "        \n",
    "        return cluster_map, distance_matrix\n",
    "\n",
    "    cluster_map = {i: [i] for i in range(len(data))}\n",
    "    distance_matrix = calculate_distance_matrix(data)\n",
    "\n",
    "    while len(cluster_map) > n_clusters:\n",
    "        cluster_map, distance_matrix = merge_clusters(cluster_map, distance_matrix)\n",
    "\n",
    "    return list(cluster_map.values())\n",
    "\n",
    "data = np.array([[1, 2], [1, 4], [1, 0],\n",
    "                 [10, 2], [10, 4], [10, 0]])\n",
    "\n",
    "n_clusters = 2\n",
    "clusters = hierarchical_clustering(data, n_clusters)\n",
    "print(\"Clusters:\", clusters)"
   ]
  },
  {
   "cell_type": "markdown",
   "metadata": {},
   "source": [
    "agglomerative clustering with scikit learn"
   ]
  },
  {
   "cell_type": "code",
   "execution_count": 2,
   "metadata": {},
   "outputs": [
    {
     "name": "stdout",
     "output_type": "stream",
     "text": [
      "Clusters: [1 1 1 0 0 0]\n"
     ]
    }
   ],
   "source": [
    "from sklearn.cluster import AgglomerativeClustering\n",
    "import numpy as np\n",
    "\n",
    "data = np.array([[1, 2], [1, 4], [1, 0], \n",
    "                 [10, 2], [10, 4], [10, 0]])\n",
    "\n",
    "n_clusters = 2\n",
    "hierarchical = AgglomerativeClustering(n_clusters=n_clusters, linkage='ward')\n",
    "labels = hierarchical.fit_predict(data)\n",
    "\n",
    "print(\"Clusters:\", labels)"
   ]
  }
 ],
 "metadata": {
  "kernelspec": {
   "display_name": "venv",
   "language": "python",
   "name": "python3"
  },
  "language_info": {
   "codemirror_mode": {
    "name": "ipython",
    "version": 3
   },
   "file_extension": ".py",
   "mimetype": "text/x-python",
   "name": "python",
   "nbconvert_exporter": "python",
   "pygments_lexer": "ipython3",
   "version": "3.10.7"
  }
 },
 "nbformat": 4,
 "nbformat_minor": 2
}
