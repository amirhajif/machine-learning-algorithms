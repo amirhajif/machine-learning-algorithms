{
 "cells": [
  {
   "cell_type": "markdown",
   "metadata": {},
   "source": [
    "DB Scan Without Scikit learn"
   ]
  },
  {
   "cell_type": "code",
   "execution_count": 1,
   "metadata": {},
   "outputs": [
    {
     "name": "stdout",
     "output_type": "stream",
     "text": [
      "Cluster labels: [1 1 1 2 2 2]\n"
     ]
    }
   ],
   "source": [
    "import numpy as np\n",
    "\n",
    "def dbscan(data, eps, min_samples):\n",
    "    n_samples = len(data)\n",
    "    labels = np.full(n_samples, -1)  # Initialize all points as noise (-1)\n",
    "    cluster_id = 0\n",
    "\n",
    "    def region_query(point_idx):\n",
    "        \"\"\"Find all points within eps distance from the given point.\"\"\"\n",
    "        distances = np.linalg.norm(data - data[point_idx], axis=1)\n",
    "        return np.where(distances <= eps)[0]\n",
    "\n",
    "    def expand_cluster(point_idx, neighbors, cluster_id):\n",
    "        \"\"\"Expand the cluster using density-based connectivity.\"\"\"\n",
    "        labels[point_idx] = cluster_id\n",
    "        i = 0\n",
    "        while i < len(neighbors):\n",
    "            neighbor_idx = neighbors[i]\n",
    "            if labels[neighbor_idx] == -1:  # Previously marked as noise\n",
    "                labels[neighbor_idx] = cluster_id\n",
    "            elif labels[neighbor_idx] == 0:  # Not yet visited\n",
    "                labels[neighbor_idx] = cluster_id\n",
    "                new_neighbors = region_query(neighbor_idx)\n",
    "                if len(new_neighbors) >= min_samples:\n",
    "                    neighbors = np.append(neighbors, new_neighbors)\n",
    "            i += 1\n",
    "\n",
    "    for point_idx in range(n_samples):\n",
    "        if labels[point_idx] != -1:  # Already processed\n",
    "            continue\n",
    "        neighbors = region_query(point_idx)\n",
    "        if len(neighbors) < min_samples:\n",
    "            labels[point_idx] = -1  # Mark as noise\n",
    "        else:\n",
    "            cluster_id += 1\n",
    "            expand_cluster(point_idx, neighbors, cluster_id)\n",
    "\n",
    "    return labels\n",
    "\n",
    "# Example usage\n",
    "data = np.array([[1, 2], [1, 4], [1, 0], [10, 2], [10, 4], [10, 0]])\n",
    "eps = 2.0\n",
    "min_samples = 2\n",
    "\n",
    "labels = dbscan(data, eps, min_samples)\n",
    "print(\"Cluster labels:\", labels)"
   ]
  },
  {
   "cell_type": "markdown",
   "metadata": {},
   "source": [
    "DB Scan With Scikit learn"
   ]
  },
  {
   "cell_type": "code",
   "execution_count": 2,
   "metadata": {},
   "outputs": [
    {
     "name": "stdout",
     "output_type": "stream",
     "text": [
      "Cluster labels: [0 0 0 1 1 1]\n"
     ]
    }
   ],
   "source": [
    "from sklearn.cluster import DBSCAN\n",
    "import numpy as np\n",
    "\n",
    "data = np.array([[1, 2], [1, 4], [1, 0], \n",
    "                 [10, 2], [10, 4], [10, 0]])\n",
    "\n",
    "eps = 2.0\n",
    "min_samples = 2\n",
    "\n",
    "db = DBSCAN(eps=eps, min_samples=min_samples)\n",
    "labels = db.fit_predict(data)\n",
    "\n",
    "print(\"Cluster labels:\", labels)"
   ]
  },
  {
   "cell_type": "code",
   "execution_count": null,
   "metadata": {},
   "outputs": [],
   "source": []
  }
 ],
 "metadata": {
  "kernelspec": {
   "display_name": "venv",
   "language": "python",
   "name": "python3"
  },
  "language_info": {
   "codemirror_mode": {
    "name": "ipython",
    "version": 3
   },
   "file_extension": ".py",
   "mimetype": "text/x-python",
   "name": "python",
   "nbconvert_exporter": "python",
   "pygments_lexer": "ipython3",
   "version": "3.10.7"
  }
 },
 "nbformat": 4,
 "nbformat_minor": 2
}
