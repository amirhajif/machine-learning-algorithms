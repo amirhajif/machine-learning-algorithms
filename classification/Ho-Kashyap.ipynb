{
 "cells": [
  {
   "cell_type": "code",
   "execution_count": 2,
   "metadata": {},
   "outputs": [
    {
     "name": "stdout",
     "output_type": "stream",
     "text": [
      "weights: [-0.5 -0.3]\n",
      "bias: 3.600000000000002\n",
      "predictions: [-1. -1.]\n"
     ]
    }
   ],
   "source": [
    "import numpy as np\n",
    "\n",
    "def ho_kashyap(X, y, eta=0.1, epochs=100):\n",
    "    n_samples, n_features = X.shape\n",
    "    \n",
    "    w = np.zeros(n_features)\n",
    "    b = 0\n",
    "    \n",
    "    for epoch in range(epochs):\n",
    "        for i in range(n_samples):\n",
    "            y_pred = np.dot(w, X[i]) + b\n",
    "            \n",
    "            if y[i] * y_pred < 1:\n",
    "                w += eta * y[i] * X[i]\n",
    "                b += eta * y[i]\n",
    "                \n",
    "    return w, b\n",
    "\n",
    "X = np.array([[2, 3], [1, 1], [3, 3], [2, 1], [6, 7], [7, 8], [6, 6], [7, 7]])\n",
    "y = np.array([1, 1, 1, 1, -1, -1, -1, -1])\n",
    "\n",
    "w, b = ho_kashyap(X, y)\n",
    "\n",
    "print(\"weights:\", w)\n",
    "print(\"bias:\", b)\n",
    "\n",
    "def predict(X_new, w, b):\n",
    "    return np.sign(np.dot(X_new, w) + b)\n",
    "\n",
    "X_new = np.array([[5, 5], [6, 6]])\n",
    "predictions = predict(X_new, w, b)\n",
    "print(\"predictions:\", predictions)"
   ]
  }
 ],
 "metadata": {
  "kernelspec": {
   "display_name": "venv",
   "language": "python",
   "name": "python3"
  },
  "language_info": {
   "codemirror_mode": {
    "name": "ipython",
    "version": 3
   },
   "file_extension": ".py",
   "mimetype": "text/x-python",
   "name": "python",
   "nbconvert_exporter": "python",
   "pygments_lexer": "ipython3",
   "version": "3.10.7"
  }
 },
 "nbformat": 4,
 "nbformat_minor": 2
}
