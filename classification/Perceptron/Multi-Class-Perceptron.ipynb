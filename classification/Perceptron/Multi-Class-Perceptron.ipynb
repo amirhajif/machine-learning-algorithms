{
 "cells": [
  {
   "cell_type": "code",
   "execution_count": 2,
   "metadata": {},
   "outputs": [
    {
     "name": "stdout",
     "output_type": "stream",
     "text": [
      "Weights:\n",
      "[[-0.4 -0.9]\n",
      " [-0.4  0.5]\n",
      " [ 0.8  0.4]]\n",
      "Biases:\n",
      "[ 1.6 -0.2 -1.4]\n",
      "Predictions: [2 2 2]\n"
     ]
    }
   ],
   "source": [
    "import numpy as np\n",
    "\n",
    "def perceptron_multiclass(X, y, learning_rate=0.1, epochs=10):\n",
    "    classes = np.unique(y)\n",
    "    n_classes = len(classes)\n",
    "    n_features = X.shape[1]\n",
    "    \n",
    "    weights = np.zeros((n_classes, n_features))\n",
    "    biases = np.zeros(n_classes)\n",
    "\n",
    "    for epoch in range(epochs):\n",
    "        for i in range(len(X)):\n",
    "            scores = np.dot(weights, X[i]) + biases\n",
    "            y_pred = np.argmax(scores)\n",
    "\n",
    "            if y_pred != y[i]:\n",
    "                weights[y[i]] += learning_rate * X[i]\n",
    "                biases[y[i]] += learning_rate\n",
    "                weights[y_pred] -= learning_rate * X[i]\n",
    "                biases[y_pred] -= learning_rate\n",
    "\n",
    "    return weights, biases\n",
    "\n",
    "\n",
    "X = np.array([[2, 3], [1, 1], [2, 1], [3, 3], [6, 7], [7, 8], [6, 6], [7, 7]])\n",
    "y = np.array([0, 0, 0, 0, 1, 1, 2, 2])  \n",
    "\n",
    "weights, biases = perceptron_multiclass(X, y)\n",
    "\n",
    "print(\"Weights:\")\n",
    "print(weights)\n",
    "print(\"Biases:\")\n",
    "print(biases)\n",
    "\n",
    "def predict_multiclass(X_new, weights, biases):\n",
    "    predictions = []\n",
    "    for x in X_new:\n",
    "        scores = np.dot(weights, x) + biases\n",
    "        predictions.append(np.argmax(scores))\n",
    "    return np.array(predictions)\n",
    "\n",
    "X_test = np.array([[4, 4], [6, 5], [7, 7]])\n",
    "predictions = predict_multiclass(X_test, weights, biases)\n",
    "print(\"Predictions:\", predictions)"
   ]
  },
  {
   "cell_type": "code",
   "execution_count": null,
   "metadata": {},
   "outputs": [],
   "source": []
  }
 ],
 "metadata": {
  "kernelspec": {
   "display_name": "venv",
   "language": "python",
   "name": "python3"
  },
  "language_info": {
   "codemirror_mode": {
    "name": "ipython",
    "version": 3
   },
   "file_extension": ".py",
   "mimetype": "text/x-python",
   "name": "python",
   "nbconvert_exporter": "python",
   "pygments_lexer": "ipython3",
   "version": "3.10.7"
  }
 },
 "nbformat": 4,
 "nbformat_minor": 2
}
