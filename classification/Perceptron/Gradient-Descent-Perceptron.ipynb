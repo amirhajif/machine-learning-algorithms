{
 "cells": [
  {
   "cell_type": "code",
   "execution_count": 1,
   "metadata": {},
   "outputs": [
    {
     "name": "stdout",
     "output_type": "stream",
     "text": [
      "Gradient Descent - Weights: [-0.005  0.01 ]\n",
      "Gradient Descent - Bias: -0.01\n"
     ]
    }
   ],
   "source": [
    "import numpy as np\n",
    "\n",
    "def perceptron_gradient_descent(X, y, learning_rate=0.01, epochs=100):\n",
    "    w = np.zeros(X.shape[1])\n",
    "    b = 0\n",
    "\n",
    "    for epoch in range(epochs):\n",
    "        predictions = np.dot(X, w) + b\n",
    "        errors = y - np.where(predictions > 0, 1, -1)\n",
    "        grad_w = -np.dot(errors, X) / len(X)\n",
    "        grad_b = -np.sum(errors) / len(X)\n",
    "\n",
    "        w -= learning_rate * grad_w\n",
    "        b -= learning_rate * grad_b\n",
    "\n",
    "    return w, b\n",
    "\n",
    "X = np.array([[2, 3], [1, 1], [2, 1], [3, 3]])\n",
    "y = np.array([1, -1, -1, 1])\n",
    "\n",
    "weights, bias = perceptron_gradient_descent(X, y)\n",
    "print(\"Gradient Descent - Weights:\", weights)\n",
    "print(\"Gradient Descent - Bias:\", bias)"
   ]
  }
 ],
 "metadata": {
  "kernelspec": {
   "display_name": "venv",
   "language": "python",
   "name": "python3"
  },
  "language_info": {
   "codemirror_mode": {
    "name": "ipython",
    "version": 3
   },
   "file_extension": ".py",
   "mimetype": "text/x-python",
   "name": "python",
   "nbconvert_exporter": "python",
   "pygments_lexer": "ipython3",
   "version": "3.10.7"
  }
 },
 "nbformat": 4,
 "nbformat_minor": 2
}
