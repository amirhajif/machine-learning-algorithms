{
 "cells": [
  {
   "cell_type": "code",
   "execution_count": 3,
   "metadata": {},
   "outputs": [
    {
     "name": "stdout",
     "output_type": "stream",
     "text": [
      "SGD Perceptron - Weights: [-0.2  0.4]\n",
      "SGD Perceptron - Bias: -0.4\n"
     ]
    }
   ],
   "source": [
    "import numpy as np\n",
    "def perceptron_sgd(X, y, learning_rate=0.1, epochs=10):\n",
    "    w = np.zeros(X.shape[1])\n",
    "    b = 0\n",
    "\n",
    "    for epoch in range(epochs):\n",
    "        for i in range(len(X)):\n",
    "            linear_output = np.dot(X[i], w) + b\n",
    "            y_pred = 1 if linear_output > 0 else -1\n",
    "\n",
    "            if y_pred != y[i]:\n",
    "                w += learning_rate * (y[i] - y_pred) * X[i]\n",
    "                b += learning_rate * (y[i] - y_pred)\n",
    "\n",
    "    return w, b\n",
    "\n",
    "\n",
    "X = np.array([[2, 3], [1, 1], [2, 1], [3, 3]])\n",
    "y = np.array([1, -1, -1, 1])\n",
    "\n",
    "weights, bias = perceptron_sgd(X, y)\n",
    "print(\"SGD Perceptron - Weights:\", weights)\n",
    "print(\"SGD Perceptron - Bias:\", bias)"
   ]
  }
 ],
 "metadata": {
  "kernelspec": {
   "display_name": "venv",
   "language": "python",
   "name": "python3"
  },
  "language_info": {
   "codemirror_mode": {
    "name": "ipython",
    "version": 3
   },
   "file_extension": ".py",
   "mimetype": "text/x-python",
   "name": "python",
   "nbconvert_exporter": "python",
   "pygments_lexer": "ipython3",
   "version": "3.10.7"
  }
 },
 "nbformat": 4,
 "nbformat_minor": 2
}
