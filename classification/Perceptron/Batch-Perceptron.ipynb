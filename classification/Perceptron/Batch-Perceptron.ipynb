{
 "cells": [
  {
   "cell_type": "code",
   "execution_count": 1,
   "metadata": {},
   "outputs": [
    {
     "name": "stdout",
     "output_type": "stream",
     "text": [
      "Batch Perceptron - Weights: [-0.1  0.2]\n",
      "Batch Perceptron - Bias: -0.2\n"
     ]
    }
   ],
   "source": [
    "import numpy as np\n",
    "def perceptron_batch(X, y, learning_rate=0.1, epochs=10):\n",
    "    w = np.zeros(X.shape[1])\n",
    "    b = 0\n",
    "\n",
    "    for epoch in range(epochs):\n",
    "        errors = []\n",
    "        for i in range(len(X)):\n",
    "            linear_output = np.dot(X[i], w) + b\n",
    "            y_pred = 1 if linear_output > 0 else -1\n",
    "            if y_pred != y[i]:\n",
    "                errors.append(i)\n",
    "\n",
    "        for i in errors:\n",
    "            w += learning_rate * y[i] * X[i]\n",
    "            b += learning_rate * y[i]\n",
    "\n",
    "    return w, b\n",
    "\n",
    "\n",
    "X = np.array([[2, 3], [1, 1], [2, 1], [3, 3]])\n",
    "y = np.array([1, -1, -1, 1])\n",
    "\n",
    "\n",
    "weights, bias = perceptron_batch(X, y)\n",
    "print(\"Batch Perceptron - Weights:\", weights)\n",
    "print(\"Batch Perceptron - Bias:\", bias)"
   ]
  }
 ],
 "metadata": {
  "kernelspec": {
   "display_name": "venv",
   "language": "python",
   "name": "python3"
  },
  "language_info": {
   "codemirror_mode": {
    "name": "ipython",
    "version": 3
   },
   "file_extension": ".py",
   "mimetype": "text/x-python",
   "name": "python",
   "nbconvert_exporter": "python",
   "pygments_lexer": "ipython3",
   "version": "3.10.7"
  }
 },
 "nbformat": 4,
 "nbformat_minor": 2
}
