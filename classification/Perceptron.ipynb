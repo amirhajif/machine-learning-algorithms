{
 "cells": [
  {
   "cell_type": "code",
   "execution_count": 2,
   "metadata": {},
   "outputs": [
    {
     "name": "stdout",
     "output_type": "stream",
     "text": [
      "Weights: [-0.1  0.2]\n",
      "Bias: -0.2\n"
     ]
    }
   ],
   "source": [
    "import numpy as np\n",
    "\n",
    "def perceptron(X, y, learning_rate=0.1, epochs=100):\n",
    "    weights = np.zeros(X.shape[1])\n",
    "    bias = 0\n",
    "\n",
    "    for epoch in range(epochs):\n",
    "        for i in range(len(X)):\n",
    "            linear_output = np.dot(X[i], weights) + bias\n",
    "            y_pred = 1 if linear_output > 0 else 0\n",
    "\n",
    "            if y_pred != y[i]:\n",
    "                error = y[i] - y_pred\n",
    "                weights += learning_rate * error * X[i]\n",
    "                bias += learning_rate * error\n",
    "\n",
    "    return weights, bias\n",
    "\n",
    "X = np.array([[2, 3], [1, 1], [2, 1], [3, 3]])\n",
    "y = np.array([1, 0, 0, 1])  # برچسب‌ها\n",
    "\n",
    "weights, bias = perceptron(X, y)\n",
    "\n",
    "print(\"Weights:\", weights)\n",
    "print(\"Bias:\", bias)"
   ]
  },
  {
   "cell_type": "markdown",
   "metadata": {},
   "source": [
    "Perceptron with Scikit"
   ]
  },
  {
   "cell_type": "code",
   "execution_count": 3,
   "metadata": {},
   "outputs": [
    {
     "name": "stdout",
     "output_type": "stream",
     "text": [
      "Accuracy: 0.98\n",
      "Weights: [[ 0.585513   -0.09951042]]\n",
      "Bias: [0.]\n"
     ]
    }
   ],
   "source": [
    "from sklearn.linear_model import Perceptron\n",
    "from sklearn.datasets import make_classification\n",
    "from sklearn.metrics import accuracy_score\n",
    "import numpy as np\n",
    "\n",
    "# تولید داده مصنوعی\n",
    "X, y = make_classification(n_samples=100, n_features=2, n_informative=2, n_redundant=0, n_classes=2, random_state=42)\n",
    "\n",
    "# مدل پرسپترون\n",
    "model = Perceptron(max_iter=1000, eta0=0.1, random_state=42)\n",
    "\n",
    "# آموزش مدل\n",
    "model.fit(X, y)\n",
    "\n",
    "# پیش‌بینی\n",
    "y_pred = model.predict(X)\n",
    "\n",
    "# محاسبه دقت\n",
    "accuracy = accuracy_score(y, y_pred)\n",
    "print(\"Accuracy:\", accuracy)\n",
    "\n",
    "# نمایش وزن‌ها و بایاس\n",
    "print(\"Weights:\", model.coef_)\n",
    "print(\"Bias:\", model.intercept_)"
   ]
  }
 ],
 "metadata": {
  "kernelspec": {
   "display_name": "venv",
   "language": "python",
   "name": "python3"
  },
  "language_info": {
   "codemirror_mode": {
    "name": "ipython",
    "version": 3
   },
   "file_extension": ".py",
   "mimetype": "text/x-python",
   "name": "python",
   "nbconvert_exporter": "python",
   "pygments_lexer": "ipython3",
   "version": "3.10.7"
  }
 },
 "nbformat": 4,
 "nbformat_minor": 2
}
