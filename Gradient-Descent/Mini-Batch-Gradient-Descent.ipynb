{
 "cells": [
  {
   "cell_type": "code",
   "execution_count": 2,
   "metadata": {},
   "outputs": [
    {
     "name": "stdout",
     "output_type": "stream",
     "text": [
      "\n",
      "Mini-Batch Gradient Descent:\n"
     ]
    },
    {
     "ename": "NameError",
     "evalue": "name 'f' is not defined",
     "output_type": "error",
     "traceback": [
      "\u001b[0;31m---------------------------------------------------------------------------\u001b[0m",
      "\u001b[0;31mNameError\u001b[0m                                 Traceback (most recent call last)",
      "Cell \u001b[0;32mIn[2], line 31\u001b[0m\n\u001b[1;32m     28\u001b[0m num_epochs \u001b[38;5;241m=\u001b[39m \u001b[38;5;241m5\u001b[39m\n\u001b[1;32m     30\u001b[0m \u001b[38;5;28mprint\u001b[39m(\u001b[38;5;124m\"\u001b[39m\u001b[38;5;130;01m\\n\u001b[39;00m\u001b[38;5;124mMini-Batch Gradient Descent:\u001b[39m\u001b[38;5;124m\"\u001b[39m)\n\u001b[0;32m---> 31\u001b[0m \u001b[43mmini_batch_gradient_descent\u001b[49m\u001b[43m(\u001b[49m\u001b[43mX\u001b[49m\u001b[43m,\u001b[49m\u001b[43m \u001b[49m\u001b[43mY\u001b[49m\u001b[43m,\u001b[49m\u001b[43m \u001b[49m\u001b[43mbatch_size\u001b[49m\u001b[43m,\u001b[49m\u001b[43m \u001b[49m\u001b[43mlearning_rate\u001b[49m\u001b[43m,\u001b[49m\u001b[43m \u001b[49m\u001b[43mnum_epochs\u001b[49m\u001b[43m)\u001b[49m\n",
      "Cell \u001b[0;32mIn[2], line 22\u001b[0m, in \u001b[0;36mmini_batch_gradient_descent\u001b[0;34m(X, Y, batch_size, learning_rate, num_epochs)\u001b[0m\n\u001b[1;32m     20\u001b[0m         grad \u001b[38;5;241m=\u001b[39m grad_f_batch(batch_X)\u001b[38;5;241m.\u001b[39mmean()  \u001b[38;5;66;03m# Gradient for the batch\u001b[39;00m\n\u001b[1;32m     21\u001b[0m         x \u001b[38;5;241m-\u001b[39m\u001b[38;5;241m=\u001b[39m learning_rate \u001b[38;5;241m*\u001b[39m grad  \u001b[38;5;66;03m# Update\u001b[39;00m\n\u001b[0;32m---> 22\u001b[0m     \u001b[38;5;28mprint\u001b[39m(\u001b[38;5;124mf\u001b[39m\u001b[38;5;124m\"\u001b[39m\u001b[38;5;124mEpoch \u001b[39m\u001b[38;5;132;01m{\u001b[39;00mepoch\u001b[38;5;241m+\u001b[39m\u001b[38;5;241m1\u001b[39m\u001b[38;5;132;01m}\u001b[39;00m\u001b[38;5;124m: x = \u001b[39m\u001b[38;5;132;01m{\u001b[39;00mx\u001b[38;5;132;01m:\u001b[39;00m\u001b[38;5;124m.4f\u001b[39m\u001b[38;5;132;01m}\u001b[39;00m\u001b[38;5;124m, f(x) = \u001b[39m\u001b[38;5;132;01m{\u001b[39;00m\u001b[43mf\u001b[49m(x)\u001b[38;5;132;01m:\u001b[39;00m\u001b[38;5;124m.4f\u001b[39m\u001b[38;5;132;01m}\u001b[39;00m\u001b[38;5;124m\"\u001b[39m)\n\u001b[1;32m     23\u001b[0m \u001b[38;5;28;01mreturn\u001b[39;00m x\n",
      "\u001b[0;31mNameError\u001b[0m: name 'f' is not defined"
     ]
    }
   ],
   "source": [
    "import numpy as np\n",
    "\n",
    "# Function and its gradient\n",
    "def f(x):\n",
    "    return x ** 2\n",
    "\n",
    "def grad_f(x):\n",
    "    return 2 * x\n",
    "\n",
    "\n",
    "# Dataset\n",
    "X = np.linspace(-10, 10, 100)  # Features\n",
    "Y = X**2  # Labels (quadratic)\n",
    "\n",
    "# Gradient for a batch\n",
    "def grad_f_batch(batch_X):\n",
    "    return 2 * batch_X\n",
    "\n",
    "# Mini-Batch Gradient Descent\n",
    "def mini_batch_gradient_descent(X, Y, batch_size, learning_rate, num_epochs):\n",
    "    x = np.random.uniform(-10, 10)  # Random initial point\n",
    "    n = len(X)\n",
    "    for epoch in range(num_epochs):\n",
    "        indices = np.random.permutation(n)\n",
    "        X_shuffled = X[indices]\n",
    "        for i in range(0, n, batch_size):\n",
    "            batch_X = X_shuffled[i:i + batch_size]\n",
    "            grad = grad_f_batch(batch_X).mean()  # Gradient for the batch\n",
    "            x -= learning_rate * grad  # Update\n",
    "        print(f\"Epoch {epoch+1}: x = {x:.4f}, f(x) = {f(x):.4f}\")\n",
    "    return x\n",
    "\n",
    "# Parameters\n",
    "batch_size = 10\n",
    "learning_rate = 0.01\n",
    "num_epochs = 5\n",
    "\n",
    "print(\"\\nMini-Batch Gradient Descent:\")\n",
    "mini_batch_gradient_descent(X, Y, batch_size, learning_rate, num_epochs)"
   ]
  }
 ],
 "metadata": {
  "kernelspec": {
   "display_name": "venv",
   "language": "python",
   "name": "python3"
  },
  "language_info": {
   "codemirror_mode": {
    "name": "ipython",
    "version": 3
   },
   "file_extension": ".py",
   "mimetype": "text/x-python",
   "name": "python",
   "nbconvert_exporter": "python",
   "pygments_lexer": "ipython3",
   "version": "3.10.7"
  }
 },
 "nbformat": 4,
 "nbformat_minor": 2
}
