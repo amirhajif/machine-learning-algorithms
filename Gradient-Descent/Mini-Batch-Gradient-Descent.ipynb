{
 "cells": [
  {
   "cell_type": "code",
   "execution_count": 3,
   "metadata": {},
   "outputs": [
    {
     "name": "stdout",
     "output_type": "stream",
     "text": [
      "\n",
      "Mini-Batch Gradient Descent:\n",
      "Epoch 1: x = 1.8415, f(x) = 3.3912\n",
      "Epoch 2: x = 1.8415, f(x) = 3.3912\n",
      "Epoch 3: x = 1.8415, f(x) = 3.3912\n",
      "Epoch 4: x = 1.8415, f(x) = 3.3912\n",
      "Epoch 5: x = 1.8415, f(x) = 3.3912\n"
     ]
    },
    {
     "data": {
      "text/plain": [
       "np.float64(1.8415097239185558)"
      ]
     },
     "execution_count": 3,
     "metadata": {},
     "output_type": "execute_result"
    }
   ],
   "source": [
    "import numpy as np\n",
    "\n",
    "# Function and its gradient\n",
    "def f(x):\n",
    "    return x ** 2\n",
    "\n",
    "def grad_f(x):\n",
    "    return 2 * x\n",
    "\n",
    "\n",
    "# Dataset\n",
    "X = np.linspace(-10, 10, 100)  # Features\n",
    "Y = X**2  # Labels (quadratic)\n",
    "\n",
    "# Gradient for a batch\n",
    "def grad_f_batch(batch_X):\n",
    "    return 2 * batch_X\n",
    "\n",
    "# Mini-Batch Gradient Descent\n",
    "def mini_batch_gradient_descent(X, Y, batch_size, learning_rate, num_epochs):\n",
    "    x = np.random.uniform(-10, 10)  # Random initial point\n",
    "    n = len(X)\n",
    "    for epoch in range(num_epochs):\n",
    "        indices = np.random.permutation(n)\n",
    "        X_shuffled = X[indices]\n",
    "        for i in range(0, n, batch_size):\n",
    "            batch_X = X_shuffled[i:i + batch_size]\n",
    "            grad = grad_f_batch(batch_X).mean()  # Gradient for the batch\n",
    "            x -= learning_rate * grad  # Update\n",
    "        print(f\"Epoch {epoch+1}: x = {x:.4f}, f(x) = {f(x):.4f}\")\n",
    "    return x\n",
    "\n",
    "# Parameters\n",
    "batch_size = 10\n",
    "learning_rate = 0.01\n",
    "num_epochs = 5\n",
    "\n",
    "print(\"\\nMini-Batch Gradient Descent:\")\n",
    "mini_batch_gradient_descent(X, Y, batch_size, learning_rate, num_epochs)"
   ]
  }
 ],
 "metadata": {
  "kernelspec": {
   "display_name": "venv",
   "language": "python",
   "name": "python3"
  },
  "language_info": {
   "codemirror_mode": {
    "name": "ipython",
    "version": 3
   },
   "file_extension": ".py",
   "mimetype": "text/x-python",
   "name": "python",
   "nbconvert_exporter": "python",
   "pygments_lexer": "ipython3",
   "version": "3.10.7"
  }
 },
 "nbformat": 4,
 "nbformat_minor": 2
}
