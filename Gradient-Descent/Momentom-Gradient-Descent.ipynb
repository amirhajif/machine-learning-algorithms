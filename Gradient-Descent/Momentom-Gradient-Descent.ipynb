{
 "cells": [
  {
   "cell_type": "code",
   "execution_count": 1,
   "metadata": {},
   "outputs": [
    {
     "name": "stdout",
     "output_type": "stream",
     "text": [
      "Momentum Gradient Descent:\n",
      "Iteration 1: x = 4.0000, f(x) = 16.0000\n",
      "Iteration 2: x = 2.3000, f(x) = 5.2900\n",
      "Iteration 3: x = 0.3100, f(x) = 0.0961\n",
      "Iteration 4: x = -1.5430, f(x) = 2.3808\n",
      "Iteration 5: x = -2.9021, f(x) = 8.4222\n",
      "Iteration 6: x = -3.5449, f(x) = 12.5661\n",
      "Iteration 7: x = -3.4144, f(x) = 11.6581\n",
      "Iteration 8: x = -2.6141, f(x) = 6.8334\n",
      "Iteration 9: x = -1.3710, f(x) = 1.8796\n",
      "Iteration 10: x = 0.0220, f(x) = 0.0005\n"
     ]
    },
    {
     "data": {
      "text/plain": [
       "0.021999353000000665"
      ]
     },
     "execution_count": 1,
     "metadata": {},
     "output_type": "execute_result"
    }
   ],
   "source": [
    "import numpy as np\n",
    "\n",
    "# Function and its gradient\n",
    "def f(x):\n",
    "    return x ** 2\n",
    "\n",
    "def grad_f(x):\n",
    "    return 2 * x\n",
    "\n",
    "# Momentum Gradient Descent\n",
    "def momentum_gradient_descent(learning_rate, momentum, num_iterations, start_point):\n",
    "    x = start_point\n",
    "    v = 0  # Velocity\n",
    "    for i in range(num_iterations):\n",
    "        grad = grad_f(x)\n",
    "        v = momentum * v - learning_rate * grad  # Update velocity\n",
    "        x += v  # Update position\n",
    "        print(f\"Iteration {i+1}: x = {x:.4f}, f(x) = {f(x):.4f}\")\n",
    "    return x\n",
    "\n",
    "# Parameters\n",
    "learning_rate = 0.1\n",
    "momentum = 0.9\n",
    "num_iterations = 10\n",
    "start_point = 5\n",
    "\n",
    "print(\"Momentum Gradient Descent:\")\n",
    "momentum_gradient_descent(learning_rate, momentum, num_iterations, start_point)"
   ]
  }
 ],
 "metadata": {
  "kernelspec": {
   "display_name": "venv",
   "language": "python",
   "name": "python3"
  },
  "language_info": {
   "codemirror_mode": {
    "name": "ipython",
    "version": 3
   },
   "file_extension": ".py",
   "mimetype": "text/x-python",
   "name": "python",
   "nbconvert_exporter": "python",
   "pygments_lexer": "ipython3",
   "version": "3.10.7"
  }
 },
 "nbformat": 4,
 "nbformat_minor": 2
}
